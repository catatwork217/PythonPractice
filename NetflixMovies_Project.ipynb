{
 "cells": [
  {
   "cell_type": "markdown",
   "metadata": {
    "dc": {
     "key": "4"
    },
    "deletable": false,
    "editable": false,
    "run_control": {
     "frozen": true
    },
    "tags": [
     "context"
    ]
   },
   "source": [
    "## 1. Loading your friend's data into a dictionary\n",
    "<p><img src=\"https://assets.datacamp.com/production/project_1237/img/netflix.jpg\" alt=\"Someone's feet on table facing a television\"></p>\n",
    "<p>Netflix! What started in 1997 as a DVD rental service has since exploded into the largest entertainment/media company by <a href=\"https://www.marketwatch.com/story/netflix-shares-close-up-8-for-yet-another-record-high-2020-07-10\">market capitalization</a>, boasting over 200 million subscribers as of <a href=\"https://www.cbsnews.com/news/netflix-tops-200-million-subscribers-but-faces-growing-challenge-from-disney-plus/\">January 2021</a>.</p>\n",
    "<p>Given the large number of movies and series available on the platform, it is a perfect opportunity to flex our data manipulation skills and dive into the entertainment industry. Our friend has also been brushing up on their Python skills and has taken a first crack at a CSV file containing Netflix data. For their first order of business, they have been performing some analyses, and they believe that the average duration of movies has been declining. </p>\n",
    "<p>As evidence of this, they have provided us with the following information. For the years from 2011 to 2020, the average movie durations are 103, 101, 99, 100, 100, 95, 95, 96, 93, and 90, respectively.</p>\n",
    "<p>If we're going to be working with this data, we know a good place to start would be to probably start working with <code>pandas</code>. But first we'll need to create a DataFrame from scratch. Let's start by creating a Python object covered in <a href=\"https://learn.datacamp.com/courses/intermediate-python\">Intermediate Python</a>: a dictionary!</p>"
   ]
  },
  {
   "cell_type": "code",
   "execution_count": 406,
   "metadata": {
    "dc": {
     "key": "4"
    },
    "tags": [
     "sample_code"
    ]
   },
   "outputs": [
    {
     "name": "stdout",
     "output_type": "stream",
     "text": [
      "{'years': [2011, 2012, 2013, 2014, 2015, 2016, 2017, 2018, 2019, 2020], 'durations': [103, 101, 99, 100, 100, 95, 95, 96, 93, 90]}\n"
     ]
    }
   ],
   "source": [
    "# Create the years and durations lists\n",
    "\n",
    "years = [2011, 2012, 2013, 2014, 2015, 2016, 2017, 2018, 2019, 2020]\n",
    "durations = [103, 101, 99, 100, 100, 95, 95, 96, 93, 90]\n",
    "\n",
    "# create dictionary\n",
    "movie_dict = { 'years': [2011, 2012, 2013, 2014, 2015, 2016, 2017, 2018, 2019, 2020],\n",
    "               'durations': [103, 101, 99, 100, 100, 95, 95, 96, 93, 90]\n",
    "             }\n",
    "\n",
    "# Print the dictionary\n",
    "print(movie_dict)"
   ]
  },
  {
   "cell_type": "code",
   "execution_count": 407,
   "metadata": {
    "dc": {
     "key": "4"
    },
    "hide": true,
    "tags": [
     "tests"
    ]
   },
   "outputs": [
    {
     "data": {
      "application/json": "{\"success\": true, \"summary\": {\"tests\": 3, \"failures\": 0, \"errors\": 0}, \"tests\": [{\"name\": \"__main__.test_years_list\", \"success\": true, \"message\": \"\"}, {\"name\": \"__main__.test_durations_list\", \"success\": true, \"message\": \"\"}, {\"name\": \"__main__.test_movie_dict_dict\", \"success\": true, \"message\": \"\"}]}"
     },
     "metadata": {},
     "output_type": "display_data"
    },
    {
     "data": {
      "text/plain": [
       "3/3 tests passed\n"
      ]
     },
     "execution_count": 407,
     "metadata": {},
     "output_type": "execute_result"
    }
   ],
   "source": [
    "%%nose\n",
    "\n",
    "test_years = [2011, 2012, 2013, 2014, 2015, 2016, 2017, 2018, 2019, 2020]\n",
    "test_durations = [103, 101, 99, 100, 100, 95, 95, 96, 93, 90]\n",
    "test_movie_dict = {'years': test_years, 'durations': test_durations}\n",
    "\n",
    "def test_years_list():\n",
    "    assert (type(years) == list), \\\n",
    "    'Did you correctly initalize a `years` as a list?'\n",
    "    assert len(test_years) == len(years), \\\n",
    "    \"Did you correctly define the `years` list as a list containing **all** 10 years from 2011 to 2020?\"\n",
    "    assert test_years == years, \\\n",
    "    \"Did you correctly define the `years` list as a list containing the years (in order) from 2011 to 2020?\"\n",
    "    \n",
    "def test_durations_list():\n",
    "    assert (type(durations) == list), \\\n",
    "    'Did you correctly initalize a `durations` as a list?'\n",
    "    assert len(test_durations) == len(durations), \\\n",
    "    \"Did you correctly define the `durations` list as a list containing **all** 10 average durations our friend provided us?\"\n",
    "    assert test_durations == durations, \\\n",
    "    \"Did you correctly define the `durations` list as a list containing all of the average movie durations (in order) that our friend provided us?\"\n",
    "    \n",
    "def test_movie_dict_dict():\n",
    "    assert (type(movie_dict) == dict), \\\n",
    "    'Did you correctly initalize `movie_dict` as a dictionary?'\n",
    "    assert len(test_durations) == len(durations), \\\n",
    "    \"Did you correctly define the `movie_dict` dictionary as a two-element dictionary containing the years and durations?\"\n",
    "    assert list(movie_dict.keys()) == ['years', 'durations'], \\\n",
    "    \"Did you correctly define the `movie_dict` dictionary as a two-element dictionary containing the keys `\\\"years\\\"` and `\\\"durations\\\"`?\"\n",
    "    assert list(movie_dict['years']) == test_years, \\\n",
    "    \"Does your `movie_dict` dictionary contain a key `\\\"years\\\"` with the value set to the `years` list you created above?\"\n",
    "    assert list(movie_dict['durations']) == test_durations, \\\n",
    "    \"Does your `movie_dict` dictionary contain a key `\\\"durations\\\"` with the value set to the `durations` list you created above?\""
   ]
  },
  {
   "cell_type": "markdown",
   "metadata": {
    "dc": {
     "key": "11"
    },
    "deletable": false,
    "editable": false,
    "run_control": {
     "frozen": true
    },
    "tags": [
     "context"
    ]
   },
   "source": [
    "## 2. Creating a DataFrame from a dictionary\n",
    "<p>To convert our dictionary <code>movie_dict</code> to a <code>pandas</code> DataFrame, we will first need to import the library under its usual alias. We'll also want to inspect our DataFrame to ensure it was created correctly. Let's perform these steps now.</p>"
   ]
  },
  {
   "cell_type": "code",
   "execution_count": 408,
   "metadata": {
    "dc": {
     "key": "11"
    },
    "tags": [
     "sample_code"
    ]
   },
   "outputs": [
    {
     "name": "stdout",
     "output_type": "stream",
     "text": [
      "   years  durations\n",
      "0   2011        103\n",
      "1   2012        101\n",
      "2   2013         99\n",
      "3   2014        100\n",
      "4   2015        100\n",
      "5   2016         95\n",
      "6   2017         95\n",
      "7   2018         96\n",
      "8   2019         93\n",
      "9   2020         90\n"
     ]
    }
   ],
   "source": [
    "# Import pandas under its usual alias\n",
    "import pandas as pd\n",
    "\n",
    "# Create a DataFrame from the dictionary\n",
    "durations_df = pd.DataFrame(movie_dict)\n",
    "\n",
    "# Print the DataFrame\n",
    "print(durations_df)"
   ]
  },
  {
   "cell_type": "code",
   "execution_count": 409,
   "metadata": {
    "dc": {
     "key": "11"
    },
    "hide": true,
    "tags": [
     "tests"
    ]
   },
   "outputs": [
    {
     "data": {
      "application/json": "{\"success\": true, \"summary\": {\"tests\": 2, \"failures\": 0, \"errors\": 0}, \"tests\": [{\"name\": \"__main__.test_pandas_loaded\", \"success\": true, \"message\": \"\"}, {\"name\": \"__main__.test_netflix_df_df\", \"success\": true, \"message\": \"\"}]}"
     },
     "metadata": {},
     "output_type": "display_data"
    },
    {
     "data": {
      "text/plain": [
       "2/2 tests passed\n"
      ]
     },
     "execution_count": 409,
     "metadata": {},
     "output_type": "execute_result"
    }
   ],
   "source": [
    "%%nose\n",
    "\n",
    "def test_pandas_loaded():\n",
    "    assert 'pd' in globals(), \\\n",
    "    'Did you correctly import the `pandas` library under the alias `pd`?'\n",
    "    \n",
    "import pandas as pd\n",
    "\n",
    "test_years = [2011, 2012, 2013, 2014, 2015, 2016, 2017, 2018, 2019, 2020]\n",
    "test_durations = [103, 101, 99, 100, 100, 95, 95, 96, 93, 90]\n",
    "test_movie_dict = {'years': test_years, 'durations': test_durations}\n",
    "test_netflix_df = pd.DataFrame(test_movie_dict)\n",
    "\n",
    "def test_netflix_df_df():\n",
    "    assert test_netflix_df.equals(durations_df), \\\n",
    "    \"Did you correctly create the `netflix_df` DataFrame using your `movie_dict` dictionary?\""
   ]
  },
  {
   "cell_type": "markdown",
   "metadata": {
    "dc": {
     "key": "18"
    },
    "deletable": false,
    "editable": false,
    "run_control": {
     "frozen": true
    },
    "tags": [
     "context"
    ]
   },
   "source": [
    "## 3. A visual inspection of our data\n",
    "<p>Alright, we now have a <code>pandas</code> DataFrame, the most common way to work with tabular data in Python. Now back to the task at hand. We want to follow up on our friend's assertion that movie lengths have been decreasing over time. A great place to start will be a visualization of the data.</p>\n",
    "<p>Given that the data is continuous, a line plot would be a good choice, with the dates represented along the x-axis and the average length in minutes along the y-axis. This will allow us to easily spot any trends in movie durations. There are many ways to visualize data in Python, but <code>matploblib.pyplot</code> is one of the most common packages to do so.</p>\n",
    "<p><em>Note: In order for us to correctly test your plot, you will need to initalize a <code>matplotlib.pyplot</code> Figure object, which we have already provided in the cell below. You can continue to create your plot as you have learned in Intermediate Python.</em></p>"
   ]
  },
  {
   "cell_type": "code",
   "execution_count": 410,
   "metadata": {
    "dc": {
     "key": "18"
    },
    "tags": [
     "sample_code"
    ]
   },
   "outputs": [
    {
     "data": {
      "image/png": "[encoded data removed]",
      "text/plain": [
       "<Figure size 432x288 with 1 Axes>"
      ]
     },
     "metadata": {},
     "output_type": "display_data"
    }
   ],
   "source": [
    "# Import matplotlib.pyplot under its usual alias and create a figure\n",
    "import matplotlib.pyplot as plt\n",
    "fig = plt.figure()\n",
    "\n",
    "# Draw a line plot of release_years and durations\n",
    "plt.plot(years, durations)\n",
    "plt.xlabel(\"release_year\")\n",
    "plt.ylabel(\"durations\")\n",
    "\n",
    "\n",
    "# Create a title\n",
    "plt.title(\"Netflix Movie Durations 2011 - 2020\")\n",
    "\n",
    "# Show the plot\n",
    "plt.show()"
   ]
  },
  {
   "cell_type": "code",
   "execution_count": 411,
   "metadata": {
    "dc": {
     "key": "18"
    },
    "hide": true,
    "tags": [
     "tests"
    ]
   },
   "outputs": [
    {
     "data": {
      "application/json": "{\"success\": true, \"summary\": {\"tests\": 5, \"failures\": 0, \"errors\": 0}, \"tests\": [{\"name\": \"__main__.test_fig_exists\", \"success\": true, \"message\": \"\"}, {\"name\": \"__main__.test_matplotlib_loaded\", \"success\": true, \"message\": \"\"}, {\"name\": \"__main__.test_y_axis\", \"success\": true, \"message\": \"\"}, {\"name\": \"__main__.test_x_axis\", \"success\": true, \"message\": \"\"}, {\"name\": \"__main__.test_title\", \"success\": true, \"message\": \"\"}]}"
     },
     "metadata": {},
     "output_type": "display_data"
    },
    {
     "data": {
      "text/plain": [
       "5/5 tests passed\n"
      ]
     },
     "execution_count": 411,
     "metadata": {},
     "output_type": "execute_result"
    }
   ],
   "source": [
    "%%nose\n",
    "\n",
    "import re\n",
    "\n",
    "def test_fig_exists():\n",
    "    import matplotlib\n",
    "    # Extra function to test for existence of fig to allow custom feedback\n",
    "    def test_fig():\n",
    "        try:\n",
    "            fig\n",
    "            return True\n",
    "        except:\n",
    "            return False\n",
    "    assert (test_fig() == True), \\\n",
    "    'Did you correctly initalize a `fig` object using `fig = plt.figure()`?'\n",
    "    assert (type(fig) == matplotlib.figure.Figure), \\\n",
    "    'Did you correctly initalize a `fig` object using `fig = plt.figure()`?'\n",
    "\n",
    "test_years = [2011, 2012, 2013, 2014, 2015, 2016, 2017, 2018, 2019, 2020]\n",
    "test_durations = [103, 101, 99, 100, 100, 95, 95, 96, 93, 90]\n",
    "test_movie_dict = {'years': test_years, 'durations': test_durations}\n",
    "test_netflix_df = pd.DataFrame(test_movie_dict)\n",
    "\n",
    "x_axis_data = test_netflix_df['years'].values\n",
    "y_axis_data = test_netflix_df['durations'].values\n",
    "\n",
    "def test_matplotlib_loaded():\n",
    "    assert 'plt' in globals(), \\\n",
    "    'Did you correctly import `matplotlib.pyplot` under the alias `plt`?'\n",
    "    \n",
    "try:\n",
    "    # Generate x and y axis containers\n",
    "    stu_yaxis = fig.gca().get_lines()[0].get_ydata()\n",
    "    stu_xaxis = fig.gca().get_lines()[0].get_xdata()\n",
    "    title = fig.gca()._axes.get_title()\n",
    "    \n",
    "except:\n",
    "    title = 'null'\n",
    "    stu_yaxis = 'null'\n",
    "    stu_xaxis = 'null'\n",
    "\n",
    "# Tests\n",
    "\n",
    "def test_y_axis():\n",
    "    assert (stu_yaxis == y_axis_data).all(), \\\n",
    "    'Are you correctly plotting the average movie durations on the y-axis?'\n",
    "    \n",
    "def test_x_axis():\n",
    "    assert (stu_xaxis == x_axis_data).all(), \\\n",
    "    'Are you correctly plotting the release years on the x axis?'\n",
    "    \n",
    "def test_title():\n",
    "    assert (re.search('netflix\\s+movie\\s+durations\\s+2011\\s*\\-\\s*2020', title, re.IGNORECASE)), \\\n",
    "    'Did you set the correct title?'"
   ]
  },
  {
   "cell_type": "markdown",
   "metadata": {
    "dc": {
     "key": "25"
    },
    "deletable": false,
    "editable": false,
    "run_control": {
     "frozen": true
    },
    "tags": [
     "context"
    ]
   },
   "source": [
    "## 4. Loading the rest of the data from a CSV\n",
    "<p>Well, it looks like there is something to the idea that movie lengths have decreased over the past ten years! But equipped only with our friend's aggregations, we're limited in the further explorations we can perform. There are a few questions about this trend that we are currently unable to answer, including:</p>\n",
    "<ol>\n",
    "<li>What does this trend look like over a longer period of time?</li>\n",
    "<li>Is this explainable by something like the genre of entertainment?</li>\n",
    "</ol>\n",
    "<p>Upon asking our friend for the original CSV they used to perform their analyses, they gladly oblige and send it. We now have access to the CSV file, available at the path <code>\"datasets/netflix_data.csv\"</code>. Let's create another DataFrame, this time with all of the data. Given the length of our friend's data, printing the whole DataFrame is probably not a good idea, so we will inspect it by printing only the first five rows.</p>"
   ]
  },
  {
   "cell_type": "code",
   "execution_count": 412,
   "metadata": {
    "dc": {
     "key": "25"
    },
    "tags": [
     "sample_code"
    ]
   },
   "outputs": [
    {
     "name": "stdout",
     "output_type": "stream",
     "text": [
      "  show_id     type  title           director  \\\n",
      "0      s1  TV Show     3%                NaN   \n",
      "1      s2    Movie   7:19  Jorge Michel Grau   \n",
      "2      s3    Movie  23:59       Gilbert Chan   \n",
      "3      s4    Movie      9        Shane Acker   \n",
      "4      s5    Movie     21     Robert Luketic   \n",
      "\n",
      "                                                cast        country  \\\n",
      "0  João Miguel, Bianca Comparato, Michel Gomes, R...         Brazil   \n",
      "1  Demián Bichir, Héctor Bonilla, Oscar Serrano, ...         Mexico   \n",
      "2  Tedd Chan, Stella Chung, Henley Hii, Lawrence ...      Singapore   \n",
      "3  Elijah Wood, John C. Reilly, Jennifer Connelly...  United States   \n",
      "4  Jim Sturgess, Kevin Spacey, Kate Bosworth, Aar...  United States   \n",
      "\n",
      "          date_added  release_year  duration  \\\n",
      "0    August 14, 2020          2020         4   \n",
      "1  December 23, 2016          2016        93   \n",
      "2  December 20, 2018          2011        78   \n",
      "3  November 16, 2017          2009        80   \n",
      "4    January 1, 2020          2008       123   \n",
      "\n",
      "                                         description             genre  \n",
      "0  In a future where the elite inhabit an island ...  International TV  \n",
      "1  After a devastating earthquake hits Mexico Cit...            Dramas  \n",
      "2  When an army recruit is found dead, his fellow...     Horror Movies  \n",
      "3  In a postapocalyptic world, rag-doll robots hi...            Action  \n",
      "4  A brilliant group of students become card-coun...            Dramas  \n"
     ]
    }
   ],
   "source": [
    "# Read in the CSV as a DataFrame\n",
    "import pandas as pd\n",
    "netflix_df = pd.read_csv('datasets/netflix_data.csv')\n",
    "\n",
    "# Print the first five rows of the DataFrame\n",
    "print(netflix_df.head(5))"
   ]
  },
  {
   "cell_type": "code",
   "execution_count": 413,
   "metadata": {
    "dc": {
     "key": "25"
    },
    "hide": true,
    "tags": [
     "tests"
    ]
   },
   "outputs": [
    {
     "data": {
      "application/json": "{\"success\": true, \"summary\": {\"tests\": 2, \"failures\": 0, \"errors\": 0}, \"tests\": [{\"name\": \"__main__.test_netflix_df_df\", \"success\": true, \"message\": \"\"}, {\"name\": \"__main__.test_print\", \"success\": true, \"message\": \"\"}]}"
     },
     "metadata": {},
     "output_type": "display_data"
    },
    {
     "data": {
      "text/plain": [
       "2/2 tests passed\n"
      ]
     },
     "execution_count": 413,
     "metadata": {},
     "output_type": "execute_result"
    }
   ],
   "source": [
    "%%nose\n",
    "import re\n",
    "import pandas as pd\n",
    "\n",
    "last_input = In[-2]\n",
    "test_netflix_df = pd.read_csv(\"datasets/netflix_data.csv\")\n",
    "\n",
    "def test_netflix_df_df():\n",
    "    assert test_netflix_df.equals(netflix_df), \\\n",
    "    \"Did you correctly create the `netflix_df` DataFrame using the CSV path provided?\"\n",
    "\n",
    "def test_print():\n",
    "    assert (re.search(\"netflix_df\\.head\\(\\s*\\)\", last_input)) or \\\n",
    "    (re.search(\"netflix_df\\[\\s*0\\s*\\:\\s*5\\s*\\]\", last_input)) or \\\n",
    "    (re.search(\"netflix_df\\[\\s*\\:\\s*5\\s*\\]\", last_input)) or \\\n",
    "    (re.search(\"netflix_df\\.loc\\[\\s*\\:\\s*4\", last_input)) or \\\n",
    "    (re.search(\"netflix_df\\.loc\\[\\s*0\\s*\\:\\s*4\", last_input)) or \\\n",
    "    (re.search(\"netflix_df\\.iloc\\[\\s*\\:\\s*5\", last_input)) or \\\n",
    "    (re.search(\"netflix_df\\.iloc\\[\\s*0\\s*\\:\\s*5\", last_input)) or \\\n",
    "    (re.search(\"netflix_df\\[\\s*\\:\\s*5\\s*\\]\", last_input)) or \\\n",
    "    (re.search(\"netflix_df\\.head\\(\\s*5\\s*\\)\", last_input)), \\\n",
    "    \"Did you print the first five rows of your new `netflix_df` DataFrame?\""
   ]
  },
  {
   "cell_type": "markdown",
   "metadata": {
    "dc": {
     "key": "32"
    },
    "deletable": false,
    "editable": false,
    "run_control": {
     "frozen": true
    },
    "tags": [
     "context"
    ]
   },
   "source": [
    "## 5. Filtering for movies!\n",
    "<p>Okay, we have our data! Now we can dive in and start looking at movie lengths. </p>\n",
    "<p>Or can we? Looking at the first five rows of our new DataFrame, we notice a column <code>type</code>. Scanning the column, it's clear there are also TV shows in the dataset! Moreover, the <code>duration</code> column we planned to use seems to represent different values depending on whether the row is a movie or a show (perhaps the number of minutes versus the number of seasons)?</p>\n",
    "<p>Fortunately, a DataFrame allows us to filter data quickly, and we can select rows where <code>type</code> is <code>Movie</code>. While we're at it, we don't need information from all of the columns, so let's create a new DataFrame <code>netflix_movies</code> containing only <code>title</code>, <code>country</code>, <code>genre</code>, <code>release_year</code>, and <code>duration</code>.</p>\n",
    "<p>Let's put our data subsetting skills to work!</p>"
   ]
  },
  {
   "cell_type": "code",
   "execution_count": 414,
   "metadata": {
    "dc": {
     "key": "32"
    },
    "tags": [
     "sample_code"
    ]
   },
   "outputs": [
    {
     "name": "stdout",
     "output_type": "stream",
     "text": [
      "   title        country          genre  release_year  duration\n",
      "1   7:19         Mexico         Dramas          2016        93\n",
      "2  23:59      Singapore  Horror Movies          2011        78\n",
      "3      9  United States         Action          2009        80\n",
      "4     21  United States         Dramas          2008       123\n",
      "6    122          Egypt  Horror Movies          2019        95\n"
     ]
    }
   ],
   "source": [
    "# Subset the DataFrame for type \"Movie\"\n",
    "netflix_df_movies_only = netflix_df.loc[netflix_df['type'] == 'Movie']\n",
    "\n",
    "# Select only the columns of interest\n",
    "netflix_movies_col_subset = netflix_df_movies_only.loc[:, ['title', 'country', 'genre', 'release_year', 'duration']]\n",
    "\n",
    "# Print the first five rows of the new DataFrame\n",
    "print(netflix_movies_col_subset.head(5))\n",
    "\n",
    "\n",
    "\n"
   ]
  },
  {
   "cell_type": "code",
   "execution_count": 415,
   "metadata": {
    "dc": {
     "key": "32"
    },
    "hide": true,
    "tags": [
     "tests"
    ]
   },
   "outputs": [
    {
     "data": {
      "application/json": "{\"success\": true, \"summary\": {\"tests\": 3, \"failures\": 0, \"errors\": 0}, \"tests\": [{\"name\": \"__main__.test_netflix_df_1\", \"success\": true, \"message\": \"\"}, {\"name\": \"__main__.test_netflix_df_2\", \"success\": true, \"message\": \"\"}, {\"name\": \"__main__.test_print\", \"success\": true, \"message\": \"\"}]}"
     },
     "metadata": {},
     "output_type": "display_data"
    },
    {
     "data": {
      "text/plain": [
       "3/3 tests passed\n"
      ]
     },
     "execution_count": 415,
     "metadata": {},
     "output_type": "execute_result"
    }
   ],
   "source": [
    "%%nose\n",
    "\n",
    "last_input = In[-2]\n",
    "\n",
    "import pandas as pd\n",
    "import re\n",
    "\n",
    "test_netflix_df = pd.read_csv(\"datasets/netflix_data.csv\")\n",
    "test_netflix_df_filtered = test_netflix_df[netflix_df['type'] == 'Movie']\n",
    "test_netflix_movies = test_netflix_df_filtered.loc[:, ['title', 'country', 'genre', 'release_year', 'duration']]\n",
    "\n",
    "def test_netflix_df_1():\n",
    "    assert test_netflix_df_filtered.equals(netflix_df_movies_only), \\\n",
    "    \"Did you correctly create the `netflix_df_movies_only` DataFrame by filtering the `netflix_df` DataFrame \\\n",
    "    where the `type` was `'Movie'`?\"\n",
    "    \n",
    "def test_netflix_df_2():\n",
    "    assert test_netflix_movies.equals(netflix_movies_col_subset), \\\n",
    "    \"Did you correctly create the `netflix_movies_col_subset` DataFrame by \\\n",
    "    selecting the columns of interest (in order) from `netflix_df_movies_only?\"\n",
    "def test_print():\n",
    "    assert (re.search(\"netflix_movies_col_subset\\.head\\(\\s*\\)\", last_input)) or \\\n",
    "    (re.search(\"netflix_movies_col_subset\\[\\s*0\\s*\\:\\s*5\\s*\\]\", last_input)) or \\\n",
    "    (re.search(\"netflix_movies_col_subset\\[\\s*\\:\\s*5\\s*\\]\", last_input)) or \\\n",
    "    (re.search(\"netflix_movies_col_subset\\.loc\\[\\s*\\:\\s*4\", last_input)) or \\\n",
    "    (re.search(\"netflix_movies_col_subset\\.loc\\[\\s*0\\s*\\:\\s*4\", last_input)) or \\\n",
    "    (re.search(\"netflix_movies_col_subset\\.iloc\\[\\s*\\:\\s*5\", last_input)) or \\\n",
    "    (re.search(\"netflix_movies_col_subset\\.iloc\\[\\s*0\\s*\\:\\s*5\", last_input)) or \\\n",
    "    (re.search(\"netflix_movies_col_subset\\[\\s*\\:\\s*5\\s*\\]\", last_input)) or \\\n",
    "    (re.search(\"netflix_movies_col_subset\\.head\\(\\s*5\\s*\\)\", last_input)), \\\n",
    "    \"Did you print the first five rows of your new `netflix_df` DataFrame?\""
   ]
  },
  {
   "cell_type": "markdown",
   "metadata": {
    "dc": {
     "key": "39"
    },
    "deletable": false,
    "editable": false,
    "run_control": {
     "frozen": true
    },
    "tags": [
     "context"
    ]
   },
   "source": [
    "## 6. Creating a scatter plot\n",
    "<p>Okay, now we're getting somewhere. We've read in the raw data, selected rows of movies, and have limited our DataFrame to our columns of interest. Let's try visualizing the data again to inspect the data over a longer range of time.</p>\n",
    "<p>This time, we are no longer working with aggregates but instead with individual movies. A line plot is no longer a good choice for our data, so let's try a scatter plot instead. We will again plot the year of release on the x-axis and the movie duration on the y-axis.</p>\n",
    "<p><em>Note: Although not taught in Intermediate Python, we have provided you the code <code>fig = plt.figure(figsize=(12,8))</code> to increase the size of the plot (to help you see the results), as well as to assist with testing. For more information on how to create or work with a <code>matplotlib</code> <code>figure</code>, refer to the <a href=\"https://matplotlib.org/stable/api/_as_gen/matplotlib.pyplot.figure.html\">documentation</a>.</em></p>"
   ]
  },
  {
   "cell_type": "code",
   "execution_count": 416,
   "metadata": {
    "dc": {
     "key": "39"
    },
    "tags": [
     "sample_code"
    ]
   },
   "outputs": [
    {
     "data": {
      "text/plain": [
       "<Figure size 864x576 with 0 Axes>"
      ]
     },
     "metadata": {},
     "output_type": "display_data"
    },
    {
     "data": {
      "image/png": "[encoded data removed]",
      "text/plain": [
       "<Figure size 432x288 with 1 Axes>"
      ]
     },
     "metadata": {},
     "output_type": "display_data"
    }
   ],
   "source": [
    "# Create a figure and increase the figure size\n",
    "fig = plt.figure(figsize=(12,8))\n",
    "\n",
    "# Create a scatter plot of duration versus year\n",
    "netflix_movies_col_subset.plot.scatter('release_year', 'duration')\n",
    "\n",
    "# Create a title\n",
    "plt.title(\"Movie Duration by Year of Release\")\n",
    "\n",
    "# Show the plot\n",
    "plt.show()"
   ]
  },
  {
   "cell_type": "code",
   "execution_count": 417,
   "metadata": {
    "dc": {
     "key": "39"
    },
    "hide": true,
    "tags": [
     "tests"
    ]
   },
   "outputs": [
    {
     "data": {
      "application/json": "{\"success\": false, \"summary\": {\"tests\": 4, \"failures\": 1, \"errors\": 2}, \"tests\": [{\"name\": \"__main__.test_fig_exists\", \"success\": true, \"message\": \"\"}, {\"name\": \"__main__.test_y_axis\", \"success\": false, \"message\": \"AttributeError: 'str' object has no attribute 'all'\\n\"}, {\"name\": \"__main__.test_x_axis\", \"success\": false, \"message\": \"AttributeError: 'str' object has no attribute 'all'\\n\"}, {\"name\": \"__main__.test_title\", \"success\": false, \"message\": \"AssertionError: Did you give the correct title?\\n\"}]}"
     },
     "metadata": {},
     "output_type": "display_data"
    },
    {
     "data": {
      "text/plain": [
       "1/4 tests passed; 3 failed\n",
       "========\n",
       "__main__.test_y_axis\n",
       "========\n",
       "Traceback (most recent call last):\n",
       "  File \"/usr/lib/python3.6/unittest/case.py\", line 59, in testPartExecutor\n",
       "    yield\n",
       "  File \"/usr/lib/python3.6/unittest/case.py\", line 605, in run\n",
       "    testMethod()\n",
       "  File \"/usr/local/lib/python3.6/dist-packages/nose/case.py\", line 198, in runTest\n",
       "    self.test(*self.arg)\n",
       "  File \"<string>\", line 26, in test_y_axis\n",
       "AttributeError: 'str' object has no attribute 'all'\n",
       "\n",
       "========\n",
       "__main__.test_x_axis\n",
       "========\n",
       "Traceback (most recent call last):\n",
       "  File \"/usr/lib/python3.6/unittest/case.py\", line 59, in testPartExecutor\n",
       "    yield\n",
       "  File \"/usr/lib/python3.6/unittest/case.py\", line 605, in run\n",
       "    testMethod()\n",
       "  File \"/usr/local/lib/python3.6/dist-packages/nose/case.py\", line 198, in runTest\n",
       "    self.test(*self.arg)\n",
       "  File \"<string>\", line 30, in test_x_axis\n",
       "AttributeError: 'str' object has no attribute 'all'\n",
       "\n",
       "========\n",
       "__main__.test_title\n",
       "========\n",
       "Traceback (most recent call last):\n",
       "  File \"/usr/lib/python3.6/unittest/case.py\", line 59, in testPartExecutor\n",
       "    yield\n",
       "  File \"/usr/lib/python3.6/unittest/case.py\", line 605, in run\n",
       "    testMethod()\n",
       "  File \"/usr/local/lib/python3.6/dist-packages/nose/case.py\", line 198, in runTest\n",
       "    self.test(*self.arg)\n",
       "  File \"<string>\", line 35, in test_title\n",
       "AssertionError: Did you give the correct title?\n",
       "\n"
      ]
     },
     "execution_count": 417,
     "metadata": {},
     "output_type": "execute_result"
    }
   ],
   "source": [
    "%%nose\n",
    "# %%nose needs to be included at the beginning of every @tests cell\n",
    "\n",
    "x_axis_data = netflix_movies_col_subset['release_year'].values\n",
    "y_axis_data = netflix_movies_col_subset['duration'].values\n",
    "\n",
    "last_input = In[-2]\n",
    "import re\n",
    "\n",
    "def test_fig_exists():\n",
    "    assert re.search('fig\\s*=\\s*plt\\.figure\\(\\s*figsize\\s*\\=\\s*\\(\\s*12\\s*\\,\\s*8\\s*\\)\\s*\\)', last_input), \\\n",
    "    'Make sure to leave the code to initialize `fig` unchanged, as this assists with testing!'\n",
    "try:\n",
    "    # Get figure labels\n",
    "    title = fig.gca()._axes.get_title()\n",
    "\n",
    "    # Concatenate lists to compare to test plot\n",
    "    stu_yaxis = fig.gca().collections[0]._offsets.data[:,1].astype(int)\n",
    "    stu_xaxis = fig.gca().collections[0]._offsets.data[:, 0].astype(int)\n",
    "\n",
    "except:\n",
    "    title = 'null'\n",
    "    stu_yaxis = 'null'\n",
    "    stu_xaxis = 'null'\n",
    "\n",
    "def test_y_axis():\n",
    "    assert stu_yaxis.all() == y_axis_data.all(), \\\n",
    "    'Are you correctly plotting `duration` on the y-axis?'\n",
    "    \n",
    "def test_x_axis():\n",
    "    assert stu_xaxis.all() == x_axis_data.all(), \\\n",
    "    'Are you correctly plotting `release_date` on the x-axis?' \n",
    "\n",
    "def test_title():\n",
    "    assert (re.search('Movie\\s+Duration\\s+by\\s+Year\\s+of\\s+Release', title, re.IGNORECASE)), \\\n",
    "    'Did you give the correct title?'"
   ]
  },
  {
   "cell_type": "markdown",
   "metadata": {
    "dc": {
     "key": "46"
    },
    "deletable": false,
    "editable": false,
    "run_control": {
     "frozen": true
    },
    "tags": [
     "context"
    ]
   },
   "source": [
    "## 7. Digging deeper\n",
    "<p>This is already much more informative than the simple plot we created when our friend first gave us some data. We can also see that, while newer movies are overrepresented on the platform, many short movies have been released in the past two decades.</p>\n",
    "<p>Upon further inspection, something else is going on. Some of these films are under an hour long! Let's filter our DataFrame for movies with a <code>duration</code> under 60 minutes and look at the genres. This might give us some insight into what is dragging down the average.</p>"
   ]
  },
  {
   "cell_type": "code",
   "execution_count": 418,
   "metadata": {
    "dc": {
     "key": "46"
    },
    "tags": [
     "sample_code"
    ]
   },
   "outputs": [
    {
     "name": "stdout",
     "output_type": "stream",
     "text": [
      "                                                 title         country  \\\n",
      "35                                           #Rucker50   United States   \n",
      "55                 100 Things to do Before High School   United States   \n",
      "67   13TH: A Conversation with Oprah Winfrey & Ava ...             NaN   \n",
      "101                                  3 Seconds Divorce          Canada   \n",
      "146                                     A 3 Minute Hug          Mexico   \n",
      "162  A Christmas Special: Miraculous: Tales of Lady...          France   \n",
      "171                         A Family Reunion Christmas   United States   \n",
      "177                    A Go! Go! Cory Carson Christmas   United States   \n",
      "178                    A Go! Go! Cory Carson Halloween             NaN   \n",
      "179                  A Go! Go! Cory Carson Summer Camp             NaN   \n",
      "181             A Grand Night In: The Story of Aardman  United Kingdom   \n",
      "200                            A Love Song for Latasha   United States   \n",
      "220                         A Russell Peters Christmas          Canada   \n",
      "233                              A StoryBots Christmas   United States   \n",
      "237                             A Tale of Two Kitchens   United States   \n",
      "242                            A Trash Truck Christmas             NaN   \n",
      "247                            A Very Murray Christmas   United States   \n",
      "285                               Abominable Christmas   United States   \n",
      "295                                 Across Grace Alley   United States   \n",
      "305                Adam Devine: Best Time of Our Lives   United States   \n",
      "\n",
      "             genre  release_year  duration  \n",
      "35   Documentaries          2016        56  \n",
      "55   Uncategorized          2014        44  \n",
      "67   Uncategorized          2017        37  \n",
      "101  Documentaries          2018        53  \n",
      "146  Documentaries          2019        28  \n",
      "162  Uncategorized          2016        22  \n",
      "171  Uncategorized          2019        29  \n",
      "177       Children          2020        22  \n",
      "178       Children          2020        22  \n",
      "179       Children          2020        21  \n",
      "181  Documentaries          2015        59  \n",
      "200  Documentaries          2020        20  \n",
      "220       Stand-Up          2011        44  \n",
      "233       Children          2017        26  \n",
      "237  Documentaries          2019        30  \n",
      "242       Children          2020        28  \n",
      "247       Comedies          2015        57  \n",
      "285       Children          2012        44  \n",
      "295         Dramas          2013        24  \n",
      "305       Stand-Up          2019        59  \n"
     ]
    }
   ],
   "source": [
    "# Filter for durations shorter than 60 minutes\n",
    "short_movies = netflix_movies_col_subset.loc[netflix_movies_col_subset['duration'] < 60]\n",
    "\n",
    "\n",
    "# Print the first 20 rows of short_movies\n",
    "print(short_movies.head(20))"
   ]
  },
  {
   "cell_type": "code",
   "execution_count": 419,
   "metadata": {
    "dc": {
     "key": "46"
    },
    "hide": true,
    "tags": [
     "tests"
    ]
   },
   "outputs": [
    {
     "data": {
      "application/json": "{\"success\": true, \"summary\": {\"tests\": 2, \"failures\": 0, \"errors\": 0}, \"tests\": [{\"name\": \"__main__.test_short_df_1\", \"success\": true, \"message\": \"\"}, {\"name\": \"__main__.test_print\", \"success\": true, \"message\": \"\"}]}"
     },
     "metadata": {},
     "output_type": "display_data"
    },
    {
     "data": {
      "text/plain": [
       "2/2 tests passed\n"
      ]
     },
     "execution_count": 419,
     "metadata": {},
     "output_type": "execute_result"
    }
   ],
   "source": [
    "%%nose\n",
    "# %%nose needs to be included at the beginning of every @tests cell\n",
    "\n",
    "last_input = In[-2]\n",
    "\n",
    "import pandas as pd\n",
    "import re\n",
    "\n",
    "test_short_df = netflix_movies_col_subset[netflix_movies_col_subset['duration'] < 60]\n",
    "\n",
    "def test_short_df_1():\n",
    "    assert len(short_movies) != 446, \\\n",
    "    \"Are you filtering `netflix_movies_col_subset` for movies **shorter** than 60 minutes?))\"\n",
    "    assert test_short_df.equals(short_movies), \\\n",
    "    \"Did you correctly create the `short_movies` DataFrame by filtering for \\\n",
    "    movies with a `duration` fewer than 60 minutes?\"\n",
    "\n",
    "def test_print():\n",
    "    assert (re.search(\"short_movies\\[\\s*0\\s*\\:\\s*20\\s*\\]\", last_input)) or \\\n",
    "    (re.search(\"short_movies\\[\\s*\\:\\s*20\\s*\\]\", last_input)) or \\\n",
    "    (re.search(\"short_movies\\.loc\\[\\s*\\:\\s*19\", last_input)) or \\\n",
    "    (re.search(\"short_movies\\.loc\\[\\s*0\\s*\\:\\s*19\", last_input)) or \\\n",
    "    (re.search(\"short_movies\\.iloc\\[\\s*\\:\\s*20\", last_input)) or \\\n",
    "    (re.search(\"short_movies\\.iloc\\[\\s*0\\s*\\:\\s*20\", last_input)) or \\\n",
    "    (re.search(\"short_movies\\[\\s*\\:\\s*20\\s*\\]\", last_input)) or \\\n",
    "    (re.search(\"short_movies\\.head\\(\\s*20\\s*\\)\", last_input)), \\\n",
    "    \"Did you print the first twenty rows of your new `short_movies` DataFrame?\""
   ]
  },
  {
   "cell_type": "markdown",
   "metadata": {
    "dc": {
     "key": "53"
    },
    "deletable": false,
    "editable": false,
    "run_control": {
     "frozen": true
    },
    "tags": [
     "context"
    ]
   },
   "source": [
    "## 8. Marking non-feature films\n",
    "<p>Interesting! It looks as though many of the films that are under 60 minutes fall into genres such as \"Children\", \"Stand-Up\", and \"Documentaries\". This is a logical result, as these types of films are probably often shorter than 90 minute Hollywood blockbuster. </p>\n",
    "<p>We could eliminate these rows from our DataFrame and plot the values again. But another interesting way to explore the effect of these genres on our data would be to plot them, but mark them with a different color.</p>\n",
    "<p>In Python, there are many ways to do this, but one fun way might be to use a loop to generate a list of colors based on the contents of the <code>genre</code> column. Much as we did in Intermediate Python, we can then pass this list to our plotting function in a later step to color all non-typical genres in a different color!</p>\n",
    "<p><em>Note: Although we are using the basic colors of red, blue, green, and black, <code>matplotlib</code> has many named colors you can use when creating plots. For more information, you can refer to the documentation <a href=\"https://matplotlib.org/stable/gallery/color/named_colors.html\">here</a>!</em></p>"
   ]
  },
  {
   "cell_type": "code",
   "execution_count": 420,
   "metadata": {
    "dc": {
     "key": "53"
    },
    "tags": [
     "sample_code"
    ]
   },
   "outputs": [
    {
     "name": "stdout",
     "output_type": "stream",
     "text": [
      "['black', 'black', 'black', 'black', 'black', 'black', 'black', 'black', 'black', 'blue']\n"
     ]
    }
   ],
   "source": [
    "# Define an empty list\n",
    "colors = []\n",
    "\n",
    "# Iterate over rows of netflix_movies_col_subset\n",
    "for index, row in netflix_movies_col_subset.iterrows() :\n",
    "    if \"Children\" in row['genre']:\n",
    "        colors.append('red')\n",
    "    elif \"Documentaries\" in row['genre']:\n",
    "        colors.append('blue')\n",
    "    elif \"Stand-Up\" in row['genre']:\n",
    "        colors.append('green')\n",
    "    else:\n",
    "        colors.append('black')\n",
    "        \n",
    "# Inspect the first 10 values in your list        \n",
    "print(colors[:10])"
   ]
  },
  {
   "cell_type": "code",
   "execution_count": 421,
   "metadata": {
    "dc": {
     "key": "53"
    },
    "hide": true,
    "tags": [
     "tests"
    ]
   },
   "outputs": [
    {
     "data": {
      "application/json": "{\"success\": true, \"summary\": {\"tests\": 1, \"failures\": 0, \"errors\": 0}, \"tests\": [{\"name\": \"__main__.test_colors_list\", \"success\": true, \"message\": \"\"}]}"
     },
     "metadata": {},
     "output_type": "display_data"
    },
    {
     "data": {
      "text/plain": [
       "1/1 tests passed\n"
      ]
     },
     "execution_count": 421,
     "metadata": {},
     "output_type": "execute_result"
    }
   ],
   "source": [
    "%%nose\n",
    "# Define an empty list\n",
    "colors_test = []\n",
    "\n",
    "# Iterate over rows of netflix_movies\n",
    "for lab, row in netflix_movies_col_subset.iterrows():\n",
    "    if row['genre'] == \"Children\":\n",
    "        colors_test.append(\"red\")\n",
    "    elif row['genre'] == \"Documentaries\":\n",
    "        colors_test.append(\"blue\")\n",
    "    elif row['genre'] == \"Stand-Up\":\n",
    "        colors_test.append(\"green\")\n",
    "    else :\n",
    "        colors_test.append(\"black\")\n",
    "        \n",
    "def test_colors_list():\n",
    "    assert colors_test == colors, \\\n",
    "    \"Did you correctly loop through your `netflix_movies` DataFrame, \\\n",
    "    and use the genre to append colors to your `colors` list? The first 9 values should be 'black', and the 10th should be `blue'.\""
   ]
  },
  {
   "cell_type": "markdown",
   "metadata": {
    "dc": {
     "key": "60"
    },
    "deletable": false,
    "editable": false,
    "run_control": {
     "frozen": true
    },
    "tags": [
     "context"
    ]
   },
   "source": [
    "## 9. Plotting with color!\n",
    "<p>Lovely looping! We now have a <code>colors</code> list that we can pass to our scatter plot, which should allow us to visually inspect whether these genres might be responsible for the decline in the average duration of movies.</p>\n",
    "<p>This time, we'll also spruce up our plot with some additional axis labels and a new theme with <code>plt.style.use()</code>. The latter isn't taught in Intermediate Python, but can be a fun way to add some visual flair to a basic <code>matplotlib</code> plot. You can find more information on customizing the style of your plot <a href=\"https://matplotlib.org/stable/tutorials/introductory/customizing.html\">here</a>!</p>"
   ]
  },
  {
   "cell_type": "code",
   "execution_count": 422,
   "metadata": {
    "dc": {
     "key": "60"
    },
    "tags": [
     "sample_code"
    ]
   },
   "outputs": [
    {
     "data": {
      "text/plain": [
       "<Figure size 864x576 with 0 Axes>"
      ]
     },
     "metadata": {},
     "output_type": "display_data"
    },
    {
     "data": {
      "image/png": "[encoded data removed]",
      "text/plain": [
       "<Figure size 432x288 with 1 Axes>"
      ]
     },
     "metadata": {},
     "output_type": "display_data"
    }
   ],
   "source": [
    "# Set the figure style and initalize a new figure\n",
    "plt.style.use('fivethirtyeight')\n",
    "fig = plt.figure(figsize=(12,8))\n",
    "\n",
    "# Create a scatter plot of duration versus release_year\n",
    "netflix_movies_col_subset.plot(kind='scatter', x='release_year', y='duration', color=colors)\n",
    "\n",
    "# Create a title and axis labels\n",
    "plt.title(\"Movie duration by year of release\")\n",
    "plt.xlabel(\"Release year\")\n",
    "plt.ylabel(\"Duration (min)\")\n",
    "\n",
    "# Show the plot\n",
    "plt.show()"
   ]
  },
  {
   "cell_type": "code",
   "execution_count": 423,
   "metadata": {
    "dc": {
     "key": "60"
    },
    "hide": true,
    "tags": [
     "tests"
    ]
   },
   "outputs": [
    {
     "data": {
      "application/json": "{\"success\": false, \"summary\": {\"tests\": 5, \"failures\": 1, \"errors\": 3}, \"tests\": [{\"name\": \"__main__.test_fig_exists\", \"success\": true, \"message\": \"\"}, {\"name\": \"__main__.test_y_axis\", \"success\": false, \"message\": \"AttributeError: 'str' object has no attribute 'all'\\n\"}, {\"name\": \"__main__.test_x_axis\", \"success\": false, \"message\": \"AttributeError: 'str' object has no attribute 'all'\\n\"}, {\"name\": \"__main__.test_colors\", \"success\": false, \"message\": \"AttributeError: 'list' object has no attribute 'all'\\n\"}, {\"name\": \"__main__.test_labels\", \"success\": false, \"message\": \"AssertionError: Did you give the correct title?\\n\"}]}"
     },
     "metadata": {},
     "output_type": "display_data"
    },
    {
     "data": {
      "text/plain": [
       "1/5 tests passed; 4 failed\n",
       "========\n",
       "__main__.test_y_axis\n",
       "========\n",
       "Traceback (most recent call last):\n",
       "  File \"/usr/lib/python3.6/unittest/case.py\", line 59, in testPartExecutor\n",
       "    yield\n",
       "  File \"/usr/lib/python3.6/unittest/case.py\", line 605, in run\n",
       "    testMethod()\n",
       "  File \"/usr/local/lib/python3.6/dist-packages/nose/case.py\", line 198, in runTest\n",
       "    self.test(*self.arg)\n",
       "  File \"<string>\", line 34, in test_y_axis\n",
       "AttributeError: 'str' object has no attribute 'all'\n",
       "\n",
       "========\n",
       "__main__.test_x_axis\n",
       "========\n",
       "Traceback (most recent call last):\n",
       "  File \"/usr/lib/python3.6/unittest/case.py\", line 59, in testPartExecutor\n",
       "    yield\n",
       "  File \"/usr/lib/python3.6/unittest/case.py\", line 605, in run\n",
       "    testMethod()\n",
       "  File \"/usr/local/lib/python3.6/dist-packages/nose/case.py\", line 198, in runTest\n",
       "    self.test(*self.arg)\n",
       "  File \"<string>\", line 38, in test_x_axis\n",
       "AttributeError: 'str' object has no attribute 'all'\n",
       "\n",
       "========\n",
       "__main__.test_colors\n",
       "========\n",
       "Traceback (most recent call last):\n",
       "  File \"/usr/lib/python3.6/unittest/case.py\", line 59, in testPartExecutor\n",
       "    yield\n",
       "  File \"/usr/lib/python3.6/unittest/case.py\", line 605, in run\n",
       "    testMethod()\n",
       "  File \"/usr/local/lib/python3.6/dist-packages/nose/case.py\", line 198, in runTest\n",
       "    self.test(*self.arg)\n",
       "  File \"<string>\", line 42, in test_colors\n",
       "AttributeError: 'list' object has no attribute 'all'\n",
       "\n",
       "========\n",
       "__main__.test_labels\n",
       "========\n",
       "Traceback (most recent call last):\n",
       "  File \"/usr/lib/python3.6/unittest/case.py\", line 59, in testPartExecutor\n",
       "    yield\n",
       "  File \"/usr/lib/python3.6/unittest/case.py\", line 605, in run\n",
       "    testMethod()\n",
       "  File \"/usr/local/lib/python3.6/dist-packages/nose/case.py\", line 198, in runTest\n",
       "    self.test(*self.arg)\n",
       "  File \"<string>\", line 47, in test_labels\n",
       "AssertionError: Did you give the correct title?\n",
       "\n"
      ]
     },
     "execution_count": 423,
     "metadata": {},
     "output_type": "execute_result"
    }
   ],
   "source": [
    "%%nose\n",
    "import numpy as np\n",
    "\n",
    "x_axis_data = netflix_movies_col_subset[\"release_year\"].values\n",
    "y_axis_data = netflix_movies_col_subset[\"duration\"].values\n",
    "color_data = np.genfromtxt('datasets/color_data.csv', delimiter=',')\n",
    "\n",
    "last_input = In[-2]\n",
    "import re\n",
    "\n",
    "def test_fig_exists():\n",
    "    assert re.search('fig\\s*=\\s*plt\\.figure\\(\\s*figsize\\s*\\=\\s*\\(\\s*12\\s*\\,\\s*8\\s*\\)\\s*\\)', last_input), \\\n",
    "    'Make sure to leave the code to initialize `fig` unchanged, as this assists with testing!'\n",
    "\n",
    "try:\n",
    "    # Get figure labels\n",
    "    title = fig.gca()._axes.get_title()\n",
    "    x_label = fig.gca()._axes.get_xlabel()\n",
    "    y_label = fig.gca()._axes.get_ylabel()\n",
    "\n",
    "    # Concatenate lists to compare to test plot\n",
    "    stu_yaxis = fig.gca().collections[0]._offsets.data[:,1].astype(int)\n",
    "    stu_xaxis = fig.gca().collections[0]._offsets.data[:, 0].astype(int)\n",
    "    stu_colors = fig.gca().collections[0]._facecolors\n",
    "except:\n",
    "    title = 'null'\n",
    "    x_label = 'null'\n",
    "    y_label = 'null'\n",
    "    stu_yaxis = 'null'\n",
    "    stu_xaxis = 'null'\n",
    "    stu_sizes = [0, 1]\n",
    "    stu_colors = [0, 1]\n",
    "\n",
    "def test_y_axis():\n",
    "    assert stu_yaxis.all() == y_axis_data.all(), \\\n",
    "    'Are you correctly plotting `duration` on the y axis?'\n",
    "    \n",
    "def test_x_axis():\n",
    "    assert stu_xaxis.all() == x_axis_data.all(), \\\n",
    "    'Are you correctly plotting `release_date` on the x axis?'\n",
    "    \n",
    "def test_colors():\n",
    "    assert color_data.all() == stu_colors.all(), \\\n",
    "    'Are you correctly setting the colors according to the rating scheme provided?'\n",
    "\n",
    "def test_labels():\n",
    "    assert (re.search('movie\\s+duration\\s+by\\s+year\\s+of\\s+release', title, re.IGNORECASE)), \\\n",
    "    'Did you give the correct title?'\n",
    "    assert (re.search('release\\s+year', x_label, re.IGNORECASE)), \\\n",
    "    'Did you set the correct x-axis label?'  \n",
    "    assert (re.search('duration\\s*\\(\\s*min\\s*\\)', y_label, re.IGNORECASE)), \\\n",
    "    'Did you set the correct y-axis label?'   "
   ]
  },
  {
   "cell_type": "markdown",
   "metadata": {
    "dc": {
     "key": "67"
    },
    "deletable": false,
    "editable": false,
    "run_control": {
     "frozen": true
    },
    "tags": [
     "context"
    ]
   },
   "source": [
    "## 10. What next?\n",
    "<p>Well, as we suspected, non-typical genres such as children's movies and documentaries are all clustered around the bottom half of the plot. But we can't know for certain until we perform additional analyses. </p>\n",
    "<p>Congratulations, you've performed an exploratory analysis of some entertainment data, and there are lots of fun ways to develop your skills as a Pythonic data scientist. These include learning how to analyze data further with statistics, creating more advanced visualizations, and perhaps most importantly, learning more advanced ways of working with data in <code>pandas</code>. This latter skill is covered in our fantastic course <a href=\"www.datacamp.com/courses/data-manipulation-with-pandas\">Data Manipulation with pandas</a>.</p>\n",
    "<p>We hope you enjoyed this application of the skills learned in Intermediate Python, and wish you all the best on the rest of your journey!</p>"
   ]
  },
  {
   "cell_type": "code",
   "execution_count": 424,
   "metadata": {
    "dc": {
     "key": "67"
    },
    "tags": [
     "sample_code"
    ]
   },
   "outputs": [],
   "source": [
    "# Are we certain that movies are getting shorter?\n",
    "are_movies_getting_shorter = 'It will take more analyses, but there are a lot of non-typical genre type movies that are shorter!'"
   ]
  },
  {
   "cell_type": "code",
   "execution_count": 425,
   "metadata": {
    "dc": {
     "key": "67"
    },
    "hide": true,
    "tags": [
     "tests"
    ]
   },
   "outputs": [
    {
     "data": {
      "application/json": "{\"success\": true, \"summary\": {\"tests\": 1, \"failures\": 0, \"errors\": 0}, \"tests\": [{\"name\": \"__main__.test_example\", \"success\": true, \"message\": \"\"}]}"
     },
     "metadata": {},
     "output_type": "display_data"
    },
    {
     "data": {
      "text/plain": [
       "1/1 tests passed\n"
      ]
     },
     "execution_count": 425,
     "metadata": {},
     "output_type": "execute_result"
    }
   ],
   "source": [
    "%%nose\n",
    "import re\n",
    "# %%nose needs to be included at the beginning of every @tests cell\n",
    "\n",
    "def test_example():\n",
    "    assert not re.match(are_movies_getting_shorter, \"yes\", re.IGNORECASE),\\\n",
    "    \"It looks like you answered that we can be certain movies are getting shorter. \\\n",
    "    But based on our inspection of the data, it looks like there might be other factors at play \\\n",
    "    such as genre of movie!\""
   ]
  }
 ],
 "metadata": {
  "kernelspec": {
   "display_name": "Python 3 (ipykernel)",
   "language": "python",
   "name": "python3"
  },
  "language_info": {
   "codemirror_mode": {
    "name": "ipython",
    "version": 3
   },
   "file_extension": ".py",
   "mimetype": "text/x-python",
   "name": "python",
   "nbconvert_exporter": "python",
   "pygments_lexer": "ipython3",
   "version": "3.11.7"
  }
 },
 "nbformat": 4,
 "nbformat_minor": 4
}
