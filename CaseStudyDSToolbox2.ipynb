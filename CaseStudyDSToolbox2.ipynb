{
 "cells": [
  {
   "cell_type": "code",
   "execution_count": 1,
   "id": "97f6583f-812b-410f-b592-8b6e21d3cb33",
   "metadata": {},
   "outputs": [],
   "source": [
    "# World Bank World Development Indicators Databank"
   ]
  },
  {
   "cell_type": "code",
   "execution_count": 2,
   "id": "562a2f28-0bb7-438a-aada-802ac1fb0607",
   "metadata": {},
   "outputs": [],
   "source": [
    "# lists2dict() is the function that creates the dictionary.\n",
    "# feature_names and row_lists are the lists in the dictionary.\n",
    "# feature_names is the header names of the dataset.\n",
    "# row_lists contains the values listed in each row of the dataset.\n",
    "\n",
    "\n"
   ]
  },
  {
   "cell_type": "code",
   "execution_count": 3,
   "id": "1410b86d-f395-4d9b-b83a-3e0e09ffa18f",
   "metadata": {},
   "outputs": [],
   "source": [
    "# using sequence.py\n",
    "\n",
    "def num_sequence(n):\n",
    "    \"\"\"Generate values from 0 to n.\"\"\"\n",
    "    i = 0\n",
    "    while i < n:\n",
    "        yield i\n",
    "        i += 1"
   ]
  },
  {
   "cell_type": "code",
   "execution_count": 4,
   "id": "531a1e00-f884-4f2c-b4a4-f5c70bf5e4fa",
   "metadata": {},
   "outputs": [],
   "source": [
    "# This is from the \"Processing Data in Chunks\" exercise\n",
    "# # Skip the column names\n",
    "    # file.readline()\n",
    "\n",
    "    # Initialize an empty dictionary: counts_dict\n",
    "    # counts_dict = {}\n",
    "\n",
    "    # Process only the first 1000 rows\n",
    "    # for j in range(0, 1000):\n",
    "\n",
    "        # Split the current line into a list: line\n",
    "        # line = file.readline().split(',')\n",
    "\n",
    "        # Get the value for the first column: first_col\n",
    "        # first_col = line[0]\n",
    "\n",
    "        # If the column value is in the dict, increment its value\n",
    "        # if first_col in counts_dict.keys():\n",
    "            # counts_dict[first_col] += 1\n",
    "\n",
    "        # Else, add to the dict and set value to 1\n",
    "        # else:\n",
    "            # counts_dict[first_col] = 1\n",
    "\n",
    "# Print the resulting dictionary\n",
    "# print(counts_dict)"
   ]
  },
  {
   "cell_type": "code",
   "execution_count": 6,
   "id": "19026287-0f91-4b62-967a-e0cfffc4eb92",
   "metadata": {},
   "outputs": [],
   "source": [
    "# Define read_large_file()\n",
    "# def read_large_file(file_object):\n",
    "    # \"\"\"A generator function to read a large file lazily.\"\"\"\n",
    "\n",
    "    # Loop indefinitely until the end of the file\n",
    "    # while True:\n",
    "\n",
    "        # Read a line from the file: data\n",
    "        # data = file_object.readline()\n",
    "\n",
    "        # Break if this is the end of the file\n",
    "        # if not data:\n",
    "            # break\n",
    "\n",
    "        # Yield the line of data\n",
    "        # yield data\n",
    "\n",
    "# Open a connection to the file\n",
    "# with open('world_dev_ind.csv') as file:\n",
    "\n",
    "    # Create a generator object for the file: gen_file\n",
    "    # gen_file = read_large_file(file)\n",
    "\n",
    "    # Print the first three lines of the file\n",
    "    # print(next(gen_file))\n",
    "    # print(next(gen_file))\n",
    "    # print(next(gen_file))\n"
   ]
  },
  {
   "cell_type": "code",
   "execution_count": null,
   "id": "9e3a9336-e74e-487b-a99a-7f25cada2bbf",
   "metadata": {},
   "outputs": [],
   "source": []
  }
 ],
 "metadata": {
  "kernelspec": {
   "display_name": "Python 3 (ipykernel)",
   "language": "python",
   "name": "python3"
  },
  "language_info": {
   "codemirror_mode": {
    "name": "ipython",
    "version": 3
   },
   "file_extension": ".py",
   "mimetype": "text/x-python",
   "name": "python",
   "nbconvert_exporter": "python",
   "pygments_lexer": "ipython3",
   "version": "3.12.2"
  }
 },
 "nbformat": 4,
 "nbformat_minor": 5
}
