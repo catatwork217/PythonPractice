{
 "cells": [
  {
   "cell_type": "code",
   "execution_count": 5,
   "id": "813366f2-44c0-498e-97c7-8bdddd550fdf",
   "metadata": {},
   "outputs": [],
   "source": [
    "# I'm not sure what is wrong w/ my code:\n",
    "# My code is below:\n",
    "\n",
    "# Loop over the squirrels list and unpack each tuple\n",
    "# for park, squirrel_details in squirrels:\n",
    "    # Add each squirrel_details to the squirrels_by_park dictionary \n",
    "    # squirrels[squirrel_details] = park\n",
    "\n",
    "# Sort the squirrels_by_park dict alphabetically by park\n",
    "# for park in squirrels(squirrels_by_park):\n",
    "    # Print each park and its value in squirrels_by_park\n",
    "    # print(f'{park}: {squirrels[squirrel_details]}')\n",
    "\n",
    "# --------------------------------------------------------------------------------\n",
    "    \n",
    "# This is the right answer:\n",
    "# # Create an empty dictionary: squirrels_by_park\n",
    "# squirrels_by_park = {}\n",
    "\n",
    "# Loop over the squirrels list and unpack each tuple\n",
    "# for park, squirrel_details in squirrels:\n",
    "    # Add each squirrel_details to the squirrels_by_park dictionary\n",
    "    # squirrels_by_park[park] = squirrel_details\n",
    "    \n",
    "# Sort the squirrels_by_park dict alphabetically by park\n",
    "# for park in sorted(squirrels_by_park):\n",
    "    # Print each park and its value in squirrels_by_park\n",
    "    # print(f'{park}: {squirrels_by_park[park]}')"
   ]
  },
  {
   "cell_type": "code",
   "execution_count": 9,
   "id": "42c34dfd-2c79-44a2-aa09-303888a03761",
   "metadata": {
    "tags": []
   },
   "outputs": [],
   "source": [
    "# Adding and extending dictionaries by adding a new key and assigning it a value in a dictionary\n",
    "\n",
    "# using the .update() method to update a dictionary from another, or from\n",
    "# tuples, or keywords\n",
    "\n"
   ]
  },
  {
   "cell_type": "code",
   "execution_count": null,
   "id": "ce428622-e53b-491a-941f-376076c026f0",
   "metadata": {},
   "outputs": [],
   "source": []
  }
 ],
 "metadata": {
  "kernelspec": {
   "display_name": "Python 3 (ipykernel)",
   "language": "python",
   "name": "python3"
  },
  "language_info": {
   "codemirror_mode": {
    "name": "ipython",
    "version": 3
   },
   "file_extension": ".py",
   "mimetype": "text/x-python",
   "name": "python",
   "nbconvert_exporter": "python",
   "pygments_lexer": "ipython3",
   "version": "3.12.2"
  }
 },
 "nbformat": 4,
 "nbformat_minor": 5
}
