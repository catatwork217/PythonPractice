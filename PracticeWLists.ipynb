{
 "cells": [
  {
   "cell_type": "code",
   "execution_count": 26,
   "id": "7e4ec8a3-1208-4ecd-b363-9997aaa7b1d8",
   "metadata": {},
   "outputs": [
    {
     "name": "stdout",
     "output_type": "stream",
     "text": [
      "[10, 20, 30, 40, 50]\n"
     ]
    }
   ],
   "source": [
    "numbers = [10, 20, 30, 40, 50]\n",
    "print(numbers)"
   ]
  },
  {
   "cell_type": "code",
   "execution_count": 27,
   "id": "d2e6acab-fc5e-4b94-a3b5-1b9d10f822d5",
   "metadata": {},
   "outputs": [
    {
     "name": "stdout",
     "output_type": "stream",
     "text": [
      "['Kelley', 'Cathrin', 'Mom', 'Dad']\n"
     ]
    }
   ],
   "source": [
    "people = ['Kelley', 'Cathrin', 'Mom', 'Dad']\n",
    "print(people)"
   ]
  },
  {
   "cell_type": "code",
   "execution_count": 28,
   "id": "c92a1d4b-f137-40e5-902c-98555d495024",
   "metadata": {},
   "outputs": [
    {
     "name": "stdout",
     "output_type": "stream",
     "text": [
      "[10, 20, 30, 40, 50, 'Kelley', 'Cathrin', 'Mom', 'Dad']\n"
     ]
    }
   ],
   "source": [
    "for x in people:\n",
    "    numbers.append(x)\n",
    "\n",
    "print(numbers)"
   ]
  },
  {
   "cell_type": "code",
   "execution_count": 29,
   "id": "b2616ca2-73c8-4bad-863b-d8fe7bd93a1a",
   "metadata": {},
   "outputs": [],
   "source": [
    "import sys"
   ]
  },
  {
   "cell_type": "code",
   "execution_count": 30,
   "id": "cbc50713-9dd9-4f18-9edf-e9f658a4d4e6",
   "metadata": {},
   "outputs": [
    {
     "name": "stdout",
     "output_type": "stream",
     "text": [
      "['__breakpointhook__', '__displayhook__', '__doc__', '__excepthook__', '__interactivehook__', '__loader__', '__name__', '__package__', '__spec__', '__stderr__', '__stdin__', '__stdout__', '__unraisablehook__', '_base_executable', '_clear_type_cache', '_current_exceptions', '_current_frames', '_debugmallocstats', '_enablelegacywindowsfsencoding', '_framework', '_getframe', '_getframemodulename', '_git', '_home', '_setprofileallthreads', '_settraceallthreads', '_stdlib_dir', '_vpath', '_xoptions', 'activate_stack_trampoline', 'addaudithook', 'api_version', 'argv', 'audit', 'base_exec_prefix', 'base_prefix', 'breakpointhook', 'builtin_module_names', 'byteorder', 'call_tracing', 'copyright', 'deactivate_stack_trampoline', 'displayhook', 'dllhandle', 'dont_write_bytecode', 'exc_info', 'excepthook', 'exception', 'exec_prefix', 'executable', 'exit', 'flags', 'float_info', 'float_repr_style', 'get_asyncgen_hooks', 'get_coroutine_origin_tracking_depth', 'get_int_max_str_digits', 'getallocatedblocks', 'getdefaultencoding', 'getfilesystemencodeerrors', 'getfilesystemencoding', 'getprofile', 'getrecursionlimit', 'getrefcount', 'getsizeof', 'getswitchinterval', 'gettrace', 'getunicodeinternedsize', 'getwindowsversion', 'hash_info', 'hexversion', 'implementation', 'int_info', 'intern', 'is_finalizing', 'is_stack_trampoline_active', 'last_traceback', 'last_type', 'last_value', 'maxsize', 'maxunicode', 'meta_path', 'modules', 'monitoring', 'orig_argv', 'path', 'path_hooks', 'path_importer_cache', 'platform', 'platlibdir', 'prefix', 'ps1', 'ps2', 'ps3', 'pycache_prefix', 'set_asyncgen_hooks', 'set_coroutine_origin_tracking_depth', 'set_int_max_str_digits', 'setprofile', 'setrecursionlimit', 'setswitchinterval', 'settrace', 'stderr', 'stdin', 'stdlib_module_names', 'stdout', 'thread_info', 'unraisablehook', 'version', 'version_info', 'warnoptions', 'winver']\n",
      "Help on built-in function getsizeof in module sys:\n",
      "\n",
      "getsizeof(...)\n",
      "    getsizeof(object [, default]) -> int\n",
      "\n",
      "    Return the size of object in bytes.\n",
      "\n",
      "None\n"
     ]
    }
   ],
   "source": [
    "print(dir(sys))\n",
    "print(help(sys.getsizeof))"
   ]
  },
  {
   "cell_type": "code",
   "execution_count": 31,
   "id": "efc07d39-b46c-4c1c-a49f-1a151d18d475",
   "metadata": {},
   "outputs": [],
   "source": [
    "list1 = [1, 2, 3, 'a', 'b', 'c', 'd', 'e', 'f', True, 3.14159]\n",
    "tuple1 = (1, 2, 3, 'a', 'b', 'c', 'd', 'e', 'f', True, 3.14159)"
   ]
  },
  {
   "cell_type": "code",
   "execution_count": 43,
   "id": "b826d25e-52b1-4495-abc8-f1ae1aa20891",
   "metadata": {},
   "outputs": [
    {
     "name": "stdout",
     "output_type": "stream",
     "text": [
      "list size =  152\n",
      "tuple size =  128\n"
     ]
    }
   ],
   "source": [
    "print('list size = ', sys.getsizeof(list1))\n",
    "print('tuple size = ', sys.getsizeof(tuple1))"
   ]
  },
  {
   "cell_type": "code",
   "execution_count": 121,
   "id": "f133941c-0e80-4ec1-9ec4-aeb8e0caff06",
   "metadata": {},
   "outputs": [],
   "source": [
    "import timeit"
   ]
  },
  {
   "cell_type": "code",
   "execution_count": 122,
   "id": "574122c4-6050-42ac-9e41-d0c03583d598",
   "metadata": {},
   "outputs": [],
   "source": [
    "listtest = timeit.timeit(stmt = '[1, 2, 3, 4, 5]', number = 10000000)\n",
    "tupletest = timeit.timeit(stmt = '(1, 2, 3, 4, 5)', number = 10000000)"
   ]
  },
  {
   "cell_type": "code",
   "execution_count": 123,
   "id": "377cf2e7-a082-41db-a153-a21b38241c47",
   "metadata": {},
   "outputs": [
    {
     "name": "stdout",
     "output_type": "stream",
     "text": [
      "list time:  0.788641799998004\n",
      "tuple time:  0.14565669998410158\n"
     ]
    },
    {
     "data": {
      "text/plain": [
       "NoneType"
      ]
     },
     "execution_count": 123,
     "metadata": {},
     "output_type": "execute_result"
    }
   ],
   "source": [
    "list_time = print('list time: ', listtest)\n",
    "tuple_time = print('tuple time: ', tupletest)\n",
    "type(list_time)\n",
    "type(tuple_time)"
   ]
  },
  {
   "cell_type": "code",
   "execution_count": 125,
   "id": "8af525bf-5b23-4a5b-a56a-86285a1f804c",
   "metadata": {},
   "outputs": [
    {
     "name": "stdout",
     "output_type": "stream",
     "text": [
      "Difference, rounded to 2 decimal places: 1.46\n"
     ]
    }
   ],
   "source": [
    "time_difference = 1.7956569999805652 - 0.3333052999805659\n",
    "rounded_difference = round(time_difference, 2)\n",
    "print(f'Difference, rounded to 2 decimal places: {rounded_difference}')"
   ]
  },
  {
   "cell_type": "code",
   "execution_count": 47,
   "id": "a872b1f3-c525-4ae2-afc2-05e26cd3e729",
   "metadata": {},
   "outputs": [],
   "source": [
    "emptytuple = ()"
   ]
  },
  {
   "cell_type": "code",
   "execution_count": 48,
   "id": "791500c2-3de9-43a9-b829-657ec6f02f3a",
   "metadata": {},
   "outputs": [],
   "source": [
    "test1 = ('a', )\n",
    "test2 = ('a', 'b')\n",
    "test3 = ('a', 'b', 'c')"
   ]
  },
  {
   "cell_type": "code",
   "execution_count": 49,
   "id": "128a4e06-6dea-4e2d-a2fb-de240c9b2f5c",
   "metadata": {},
   "outputs": [
    {
     "name": "stdout",
     "output_type": "stream",
     "text": [
      "()\n",
      "('a',)\n",
      "('a', 'b')\n",
      "('a', 'b', 'c')\n"
     ]
    }
   ],
   "source": [
    "print(emptytuple)\n",
    "print(test1)\n",
    "print(test2)\n",
    "print(test3)"
   ]
  },
  {
   "cell_type": "code",
   "execution_count": 129,
   "id": "b8a3a672-e051-427c-94e2-a781202679a1",
   "metadata": {},
   "outputs": [
    {
     "name": "stdout",
     "output_type": "stream",
     "text": [
      "(1,)\n",
      "(1, 2)\n",
      "(1, 3, 43)\n",
      "<class 'tuple'>\n",
      "<class 'tuple'>\n",
      "<class 'tuple'>\n"
     ]
    }
   ],
   "source": [
    "#alt consctruct of tuples\n",
    "test1 = 1,\n",
    "test2 = 1, 2\n",
    "test3 = 1, 3, 43\n",
    "print(test1)\n",
    "print(test2)\n",
    "print(test3)\n",
    "print(type(test1))\n",
    "print(type(test2))\n",
    "print(type(test3))"
   ]
  },
  {
   "cell_type": "code",
   "execution_count": 131,
   "id": "99dc0053-e3f7-4fc1-bffe-4159bfca20ea",
   "metadata": {},
   "outputs": [],
   "source": [
    "# Now we will work w/ tuples w/ 1 element"
   ]
  },
  {
   "cell_type": "code",
   "execution_count": 132,
   "id": "c7f6566a-1b42-4cb1-a8a8-d3062ef6a0f2",
   "metadata": {},
   "outputs": [
    {
     "name": "stdout",
     "output_type": "stream",
     "text": [
      "Age:  27\n",
      "Country Vietman\n",
      "Knows Python? True\n"
     ]
    }
   ],
   "source": [
    "survey = (27, 'Vietman', True)\n",
    "age = survey[0]\n",
    "country = survey[1]\n",
    "knows_python = survey[2]\n",
    "\n",
    "print('Age: ', age)\n",
    "print('Country', country)\n",
    "print('Knows Python?', knows_python)"
   ]
  },
  {
   "cell_type": "code",
   "execution_count": 133,
   "id": "b2d5b6c3-c198-4f9f-b6c6-4c7df22bb830",
   "metadata": {},
   "outputs": [
    {
     "name": "stdout",
     "output_type": "stream",
     "text": [
      "Age:  21\n",
      "Country:  Switzerland\n",
      "Knows Python?  False\n"
     ]
    }
   ],
   "source": [
    "survey2 = (21, 'Switzerland', False)\n",
    "age, country, knows_python = survey2\n",
    "print('Age: ', age)\n",
    "print('Country: ', country)\n",
    "print('Knows Python? ', knows_python)"
   ]
  },
  {
   "cell_type": "code",
   "execution_count": 137,
   "id": "0f193e9e-4d17-40a6-ae29-5230f59f5a1c",
   "metadata": {},
   "outputs": [],
   "source": [
    "set1 = set([1, 2, 3, 4, 5])"
   ]
  },
  {
   "cell_type": "code",
   "execution_count": 138,
   "id": "32a576b2-3965-4de9-bffd-2afaeabf4a02",
   "metadata": {},
   "outputs": [],
   "source": [
    "set2 = set([1, 4, 7, 11, 20])\n"
   ]
  },
  {
   "cell_type": "code",
   "execution_count": 142,
   "id": "c1487203-a2fd-4cba-8e22-464c24a35d6b",
   "metadata": {},
   "outputs": [
    {
     "data": {
      "text/plain": [
       "{1, 2, 3, 4, 5}"
      ]
     },
     "execution_count": 142,
     "metadata": {},
     "output_type": "execute_result"
    }
   ],
   "source": [
    "set1.union([1])"
   ]
  },
  {
   "cell_type": "code",
   "execution_count": 2,
   "id": "c33b29a6-955a-444d-8d4b-3380c1dedfae",
   "metadata": {},
   "outputs": [
    {
     "name": "stdout",
     "output_type": "stream",
     "text": [
      "(2, 4, 6)\n"
     ]
    }
   ],
   "source": [
    "# This is the way to convert an element in a tuple to something else\n",
    "# Unpack nums into num1, num2, and num3\n",
    "nums = (3, 4, 6)\n",
    "num1, num2, num3 = nums\n",
    "\n",
    "\n",
    "# Construct even_nums\n",
    "even_num = list(nums)\n",
    "even_num [0] = 2\n",
    "even_nums = tuple(even_num)\n",
    "print(even_nums)"
   ]
  },
  {
   "cell_type": "code",
   "execution_count": null,
   "id": "632dd40b-5256-454b-aee4-d0aef036887c",
   "metadata": {},
   "outputs": [],
   "source": []
  }
 ],
 "metadata": {
  "kernelspec": {
   "display_name": "Python 3 (ipykernel)",
   "language": "python",
   "name": "python3"
  },
  "language_info": {
   "codemirror_mode": {
    "name": "ipython",
    "version": 3
   },
   "file_extension": ".py",
   "mimetype": "text/x-python",
   "name": "python",
   "nbconvert_exporter": "python",
   "pygments_lexer": "ipython3",
   "version": "3.12.2"
  }
 },
 "nbformat": 4,
 "nbformat_minor": 5
}
