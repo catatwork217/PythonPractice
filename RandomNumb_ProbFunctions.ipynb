{
 "cells": [
  {
   "cell_type": "code",
   "execution_count": 2,
   "id": "c3d26216-8d24-4cfe-8c29-d98c44884b39",
   "metadata": {},
   "outputs": [],
   "source": [
    "import random\n"
   ]
  },
  {
   "cell_type": "code",
   "execution_count": 3,
   "id": "db48279c-1a7b-491a-822d-210fc9b05a5a",
   "metadata": {},
   "outputs": [
    {
     "name": "stdout",
     "output_type": "stream",
     "text": [
      "3.2742484996130856\n",
      "3.5234793920590572\n",
      "4.705305525708198\n",
      "6.761456609831812\n",
      "5.212137984183544\n",
      "5.053195128539427\n",
      "5.3412137666664075\n",
      "3.4255034674787277\n",
      "3.2388813523158495\n",
      "3.194332383575918\n"
     ]
    }
   ],
   "source": [
    "def my_random():\n",
    "    return 4*random.random() + 3\n",
    "for i in range(10):\n",
    "    print(my_random())"
   ]
  },
  {
   "cell_type": "code",
   "execution_count": 4,
   "id": "64314bbe-60a9-43e2-b5d0-42d2e9843f8d",
   "metadata": {},
   "outputs": [
    {
     "name": "stdout",
     "output_type": "stream",
     "text": [
      "6.518143142077126\n",
      "6.706906540105204\n",
      "6.907922951657331\n",
      "5.4407386881201045\n",
      "6.544681941560717\n",
      "4.899583699375986\n",
      "5.9603907248031565\n",
      "3.088819775581077\n",
      "3.4554827791134373\n",
      "6.015751684303773\n"
     ]
    }
   ],
   "source": [
    "for i in range(10):\n",
    "    print(random.uniform(3, 7))"
   ]
  },
  {
   "cell_type": "code",
   "execution_count": 5,
   "id": "028f785c-648e-4940-9ed5-5967f8382569",
   "metadata": {},
   "outputs": [],
   "source": [
    "#The NORMALVARIATE() FUNCTION passes in BOTH mu + sigma (Mean + Standard Deviation)"
   ]
  },
  {
   "cell_type": "code",
   "execution_count": 7,
   "id": "363b6aa8-654e-403b-b346-98622be8dddd",
   "metadata": {},
   "outputs": [
    {
     "name": "stdout",
     "output_type": "stream",
     "text": [
      "0.0725997552007337\n",
      "2.4662787319233352\n",
      "2.428883033567673\n",
      "1.120036659752063\n",
      "-0.09083005011845581\n",
      "0.41958822510496413\n",
      "-0.3779883057172753\n",
      "-1.0733921262998654\n",
      "-0.6648122169041875\n",
      "-0.37072370508895613\n",
      "0.6306961348301114\n",
      "-0.4361149608177863\n",
      "0.8227578667515426\n",
      "0.09249377715429817\n",
      "0.9287674870176108\n",
      "-0.6012402552805243\n",
      "0.6426910201132751\n",
      "2.16709716044588\n",
      "-0.47549954182296156\n",
      "-1.261550755755386\n"
     ]
    }
   ],
   "source": [
    "for i in range(20):\n",
    "    print(random.normalvariate(0, 1))"
   ]
  },
  {
   "cell_type": "code",
   "execution_count": 8,
   "id": "0820ec38-3f72-418e-a1f4-818afc474da0",
   "metadata": {},
   "outputs": [],
   "source": [
    "#DISCRETE PROBABILITY FUNCTIONS!!"
   ]
  },
  {
   "cell_type": "code",
   "execution_count": 1,
   "id": "949814aa-cc34-46ee-a10a-98b0f0f81ba6",
   "metadata": {},
   "outputs": [],
   "source": [
    "#what is the longest walk you can take so that ON AVERAGE you will end up 4 blocks or Fewer from home?\n"
   ]
  },
  {
   "cell_type": "code",
   "execution_count": 2,
   "id": "dcfbdefd-205f-46a4-9d43-a62678d8142d",
   "metadata": {},
   "outputs": [],
   "source": [
    "#random walk of n blocks\n"
   ]
  },
  {
   "cell_type": "code",
   "execution_count": 3,
   "id": "478f58ad-b9e6-4154-a316-52964f168b44",
   "metadata": {},
   "outputs": [],
   "source": [
    "import random"
   ]
  },
  {
   "cell_type": "code",
   "execution_count": 5,
   "id": "2823f7a7-d238-4700-8f67-b0de0541f8ba",
   "metadata": {},
   "outputs": [
    {
     "name": "stdout",
     "output_type": "stream",
     "text": [
      "(1, 1) Distance from home =  2\n",
      "(3, 1) Distance from home =  4\n",
      "(1, -3) Distance from home =  4\n",
      "(-4, 2) Distance from home =  6\n",
      "(1, -1) Distance from home =  2\n",
      "(-2, 0) Distance from home =  2\n",
      "(2, 0) Distance from home =  2\n",
      "(-4, -2) Distance from home =  6\n",
      "(-5, -1) Distance from home =  6\n",
      "(1, -3) Distance from home =  4\n",
      "(-1, 3) Distance from home =  4\n",
      "(-1, -5) Distance from home =  6\n",
      "(-2, -2) Distance from home =  4\n",
      "(1, -1) Distance from home =  2\n",
      "(-4, 0) Distance from home =  4\n",
      "(-2, -2) Distance from home =  4\n",
      "(-3, -1) Distance from home =  4\n",
      "(0, -2) Distance from home =  2\n",
      "(0, -2) Distance from home =  2\n",
      "(-3, -3) Distance from home =  6\n",
      "(-1, -3) Distance from home =  4\n",
      "(2, 2) Distance from home =  4\n",
      "(-2, 4) Distance from home =  6\n",
      "(1, -1) Distance from home =  2\n",
      "(0, -2) Distance from home =  2\n"
     ]
    }
   ],
   "source": [
    "def random_walk(n):\n",
    "    #Return coordinates after 'n' block random walk.\n",
    "    x = 0\n",
    "    y = 0\n",
    "    for i in range(n):\n",
    "        step = random.choice(['N', 'S', 'E', 'W'])\n",
    "        if step == 'N':\n",
    "            y = y + 1\n",
    "        elif step == 'S':\n",
    "            y = y - 1\n",
    "        elif step == 'E':\n",
    "            x = x + 1\n",
    "        else:\n",
    "            x = x - 1\n",
    "    return (x, y)\n",
    "\n",
    "for i in range(25):\n",
    "    walk = random_walk(10)\n",
    "    print(walk, \"Distance from home = \", abs(walk[0]) + abs(walk[1]))\n",
    "\n",
    "    "
   ]
  },
  {
   "cell_type": "code",
   "execution_count": 7,
   "id": "5b6b056f-daaa-4d4b-bda1-6e6e0c147c2b",
   "metadata": {},
   "outputs": [],
   "source": [
    "def random_walk_2(n):\n",
    "    #Return coordinates after 'n' block random walk.\n",
    "    x, y = 0, 0 #assigns first 0 to x and second to y\n",
    "    for i in range(n):\n",
    "        (dx, dy) = random.choice([(0, 1), (0, -1), (1, 0), (-1, 0)])\n",
    "        x += dx\n",
    "        y += dy\n",
    "    return (x, y)"
   ]
  },
  {
   "cell_type": "code",
   "execution_count": 8,
   "id": "4f38bac1-a878-4211-8a7b-c6334c33d0e2",
   "metadata": {},
   "outputs": [
    {
     "name": "stdout",
     "output_type": "stream",
     "text": [
      "(-2, 0) Distance from home =  2\n",
      "(-2, 2) Distance from home =  4\n",
      "(2, 0) Distance from home =  2\n",
      "(0, 0) Distance from home =  0\n",
      "(0, 4) Distance from home =  4\n",
      "(2, 4) Distance from home =  6\n",
      "(2, -2) Distance from home =  4\n",
      "(1, -1) Distance from home =  2\n",
      "(-1, -1) Distance from home =  2\n",
      "(1, 1) Distance from home =  2\n",
      "(0, -2) Distance from home =  2\n",
      "(-1, -3) Distance from home =  4\n",
      "(0, 0) Distance from home =  0\n",
      "(4, -2) Distance from home =  6\n",
      "(1, 3) Distance from home =  4\n",
      "(-1, -5) Distance from home =  6\n",
      "(3, 1) Distance from home =  4\n",
      "(2, -2) Distance from home =  4\n",
      "(1, 1) Distance from home =  2\n",
      "(-2, -2) Distance from home =  4\n",
      "(1, -1) Distance from home =  2\n",
      "(-5, 1) Distance from home =  6\n",
      "(0, -2) Distance from home =  2\n",
      "(5, -1) Distance from home =  6\n",
      "(-1, -1) Distance from home =  2\n"
     ]
    }
   ],
   "source": [
    "for i in range(25):\n",
    "    walk = random_walk_2(10)\n",
    "    print(walk, \"Distance from home = \", abs(walk[0]) + abs(walk[1]))"
   ]
  },
  {
   "cell_type": "code",
   "execution_count": 9,
   "id": "3c61beb8-a3d8-4ace-997d-f40e0798d6df",
   "metadata": {},
   "outputs": [],
   "source": [
    "#ON AVERAGE means we need to find a solution that is LESS THAN 50%"
   ]
  },
  {
   "cell_type": "code",
   "execution_count": 10,
   "id": "36ca473d-aaf2-41f1-9661-e5e91ec84036",
   "metadata": {},
   "outputs": [],
   "source": [
    "#USE MONTE CARLO METHOD"
   ]
  },
  {
   "cell_type": "code",
   "execution_count": 39,
   "id": "bcc85597-bce7-472c-85e2-165beeb5f6e4",
   "metadata": {},
   "outputs": [
    {
     "name": "stdout",
     "output_type": "stream",
     "text": [
      "Walk size =  1  / % of no transport =  1.0\n",
      "Walk size =  2  / % of no transport =  1.0\n",
      "Walk size =  3  / % of no transport =  1.0\n",
      "Walk size =  4  / % of no transport =  1.0\n",
      "Walk size =  5  / % of no transport =  1.0\n",
      "Walk size =  6  / % of no transport =  0.93695\n",
      "Walk size =  7  / % of no transport =  0.9684\n",
      "Walk size =  8  / % of no transport =  0.86385\n",
      "Walk size =  9  / % of no transport =  0.92145\n",
      "Walk size =  10  / % of no transport =  0.7967\n",
      "Walk size =  11  / % of no transport =  0.8708\n",
      "Walk size =  12  / % of no transport =  0.7273\n",
      "Walk size =  13  / % of no transport =  0.82235\n",
      "Walk size =  14  / % of no transport =  0.67515\n",
      "Walk size =  15  / % of no transport =  0.7835\n",
      "Walk size =  16  / % of no transport =  0.62855\n",
      "Walk size =  17  / % of no transport =  0.738\n",
      "Walk size =  18  / % of no transport =  0.5846\n",
      "Walk size =  19  / % of no transport =  0.6924\n",
      "Walk size =  20  / % of no transport =  0.53855\n",
      "The longest walk you can take that will result, on average, \n",
      "in a distance of no more than 5 blocks from home is 20.0 blocks.\n",
      "Walk size =  21  / % of no transport =  0.6594\n",
      "Walk size =  22  / % of no transport =  0.5098\n",
      "The longest walk you can take that will result, on average, \n",
      "in a distance of no more than 5 blocks from home is 22.0 blocks.\n",
      "Walk size =  23  / % of no transport =  0.62425\n",
      "Walk size =  24  / % of no transport =  0.48565\n",
      "Walk size =  25  / % of no transport =  0.5987\n",
      "Walk size =  26  / % of no transport =  0.4576\n",
      "Walk size =  27  / % of no transport =  0.5704\n",
      "Walk size =  28  / % of no transport =  0.4293\n",
      "Walk size =  29  / % of no transport =  0.54155\n",
      "The longest walk you can take that will result, on average, \n",
      "in a distance of no more than 5 blocks from home is 29.0 blocks.\n",
      "Walk size =  30  / % of no transport =  0.4085\n"
     ]
    }
   ],
   "source": [
    "# Using Monte Carlo simulation the goal is to answer the question: \n",
    "# What is the longest walk you can take so that ON AVERAGE you will end up 5 blocks or Fewer from home?\n",
    "import numpy as np\n",
    "number_of_walks = 20000\n",
    "\n",
    "for walk_length in range(1, 31):\n",
    "    no_transport = 0 #Number of walks 5 or fewer blocks from home\n",
    "    for i in range(number_of_walks):\n",
    "        (x, y) = random_walk_2(walk_length)\n",
    "        distance = abs(x) + abs(y)\n",
    "        if distance <= 5:\n",
    "            no_transport += 1\n",
    "    \n",
    "    no_transport_percentage = float(no_transport) / number_of_walks\n",
    "    print(\"Walk size = \", walk_length, \" / % of no transport = \", no_transport_percentage)\n",
    "\n",
    "    # Final result\n",
    "    if no_transport_percentage > 0.50 and no_transport_percentage < 0.56:\n",
    "        print(\"The longest walk you can take that will result, on average, \\nin a distance of no more than 5 blocks from home is\", np.mean(walk_length), \"blocks.\")"
   ]
  },
  {
   "cell_type": "code",
   "execution_count": 41,
   "id": "4fae8014-1ce4-4737-b9a6-9085112a9980",
   "metadata": {},
   "outputs": [
    {
     "name": "stdout",
     "output_type": "stream",
     "text": [
      "The longest walk you can take that will result, on average, in a distance of no more than 5 blocks from home\n",
      " is 20.0, 22.0, and 29.0 blocks, respectively.\n"
     ]
    }
   ],
   "source": [
    "print('The longest walk you can take that will result, on average, in a distance of no more than 5 blocks from home\\n is 20.0, 22.0, and 29.0 blocks, respectively.')"
   ]
  },
  {
   "cell_type": "code",
   "execution_count": null,
   "id": "5667719a-c2ef-4557-9e8f-1499c5f9f07b",
   "metadata": {},
   "outputs": [],
   "source": []
  }
 ],
 "metadata": {
  "kernelspec": {
   "display_name": "Python 3 (ipykernel)",
   "language": "python",
   "name": "python3"
  },
  "language_info": {
   "codemirror_mode": {
    "name": "ipython",
    "version": 3
   },
   "file_extension": ".py",
   "mimetype": "text/x-python",
   "name": "python",
   "nbconvert_exporter": "python",
   "pygments_lexer": "ipython3",
   "version": "3.12.2"
  }
 },
 "nbformat": 4,
 "nbformat_minor": 5
}
