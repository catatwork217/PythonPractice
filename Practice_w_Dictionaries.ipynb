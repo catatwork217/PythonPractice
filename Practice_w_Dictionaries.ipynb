{
 "cells": [
  {
   "cell_type": "code",
   "execution_count": 1,
   "id": "c8cb222d-4dec-4a1a-b364-784445abf731",
   "metadata": {},
   "outputs": [],
   "source": [
    "d = {}\n"
   ]
  },
  {
   "cell_type": "code",
   "execution_count": 3,
   "id": "94c30012-4d21-4f1b-97fe-962a35cbdf94",
   "metadata": {},
   "outputs": [],
   "source": [
    "#d = {\"George\": 24, \"Tom\": 32}"
   ]
  },
  {
   "cell_type": "code",
   "execution_count": 4,
   "id": "fea553e0-619e-4f33-9889-f8835b6cacc2",
   "metadata": {},
   "outputs": [],
   "source": [
    "d[\"George\"] = 24"
   ]
  },
  {
   "cell_type": "code",
   "execution_count": 5,
   "id": "7c1bfbbe-8e3f-4c4a-a100-0acf2119bb0c",
   "metadata": {},
   "outputs": [],
   "source": [
    "d[\"Tom\"] = 32"
   ]
  },
  {
   "cell_type": "code",
   "execution_count": 6,
   "id": "7cf51669-8ffe-4d62-a963-f6b5c41b9984",
   "metadata": {},
   "outputs": [],
   "source": [
    "d[\"Jenny\"] = 16"
   ]
  },
  {
   "cell_type": "code",
   "execution_count": 7,
   "id": "866e0afb-1a73-481d-96b7-361aed2bd98c",
   "metadata": {},
   "outputs": [
    {
     "name": "stdout",
     "output_type": "stream",
     "text": [
      "24\n"
     ]
    }
   ],
   "source": [
    "print(d[\"George\"])"
   ]
  },
  {
   "cell_type": "code",
   "execution_count": 8,
   "id": "3ed66661-9550-4391-bc1a-b2119f3a7bf7",
   "metadata": {},
   "outputs": [
    {
     "name": "stdout",
     "output_type": "stream",
     "text": [
      "32\n"
     ]
    }
   ],
   "source": [
    "print(d[\"Tom\"])"
   ]
  },
  {
   "cell_type": "code",
   "execution_count": 9,
   "id": "5bbe9f9e-47de-46a6-be49-bc4758b4a517",
   "metadata": {},
   "outputs": [
    {
     "ename": "KeyError",
     "evalue": "'Alice'",
     "output_type": "error",
     "traceback": [
      "\u001b[1;31m---------------------------------------------------------------------------\u001b[0m",
      "\u001b[1;31mKeyError\u001b[0m                                  Traceback (most recent call last)",
      "Cell \u001b[1;32mIn[9], line 1\u001b[0m\n\u001b[1;32m----> 1\u001b[0m \u001b[38;5;28mprint\u001b[39m(d[\u001b[38;5;124m\"\u001b[39m\u001b[38;5;124mAlice\u001b[39m\u001b[38;5;124m\"\u001b[39m])\n",
      "\u001b[1;31mKeyError\u001b[0m: 'Alice'"
     ]
    }
   ],
   "source": [
    "print(d[\"Alice\"])\n"
   ]
  },
  {
   "cell_type": "code",
   "execution_count": 10,
   "id": "8bb0db67-abc2-4c76-91a8-5a402cc0d4d9",
   "metadata": {},
   "outputs": [
    {
     "name": "stdout",
     "output_type": "stream",
     "text": [
      "16\n"
     ]
    }
   ],
   "source": [
    "print(d[\"Jenny\"])"
   ]
  },
  {
   "cell_type": "code",
   "execution_count": 11,
   "id": "3ff9409d-52df-4324-8a00-f21d51d08dda",
   "metadata": {},
   "outputs": [],
   "source": [
    "d[\"Jenny\"] = 20\n"
   ]
  },
  {
   "cell_type": "code",
   "execution_count": 12,
   "id": "df473d96-8c21-4abc-8704-bb67af11ca77",
   "metadata": {},
   "outputs": [
    {
     "name": "stdout",
     "output_type": "stream",
     "text": [
      "20\n"
     ]
    }
   ],
   "source": [
    "print(d[\"Jenny\"])\n"
   ]
  },
  {
   "cell_type": "code",
   "execution_count": 13,
   "id": "31899664-af9b-4383-b5d4-4f824bb32f44",
   "metadata": {},
   "outputs": [],
   "source": [
    "#keys are commonly strings or numbers"
   ]
  },
  {
   "cell_type": "code",
   "execution_count": 14,
   "id": "a50736bd-3db1-44b4-9147-cc16d1bee81a",
   "metadata": {},
   "outputs": [],
   "source": [
    "d[10] = 100"
   ]
  },
  {
   "cell_type": "code",
   "execution_count": 15,
   "id": "84d01b60-5aa7-47ba-9c70-7ee7d27ad60e",
   "metadata": {},
   "outputs": [
    {
     "name": "stdout",
     "output_type": "stream",
     "text": [
      "100\n"
     ]
    }
   ],
   "source": [
    "print(d[10])"
   ]
  },
  {
   "cell_type": "code",
   "execution_count": 16,
   "id": "668f3dc1-e009-4e1e-9718-9b825b7533a5",
   "metadata": {},
   "outputs": [],
   "source": [
    "#how to iterate over key value pairs"
   ]
  },
  {
   "cell_type": "code",
   "execution_count": 19,
   "id": "816e394e-ecbf-4910-940e-bab5ab8a9aab",
   "metadata": {},
   "outputs": [
    {
     "name": "stdout",
     "output_type": "stream",
     "text": [
      "key:\n",
      "George\n",
      "value:\n",
      "24\n",
      "\n",
      "key:\n",
      "Tom\n",
      "value:\n",
      "32\n",
      "\n",
      "key:\n",
      "Jenny\n",
      "value:\n",
      "20\n",
      "\n",
      "key:\n",
      "10\n",
      "value:\n",
      "100\n",
      "\n"
     ]
    }
   ],
   "source": [
    "for key, value in d.items():\n",
    "    print(\"key:\")\n",
    "    print(key)\n",
    "    print(\"value:\")\n",
    "    print(value)\n",
    "    print('')"
   ]
  },
  {
   "cell_type": "code",
   "execution_count": 31,
   "id": "49ad074f-6fd8-4d23-8f45-5204d372bb48",
   "metadata": {},
   "outputs": [],
   "source": [
    "d[\"Cathrin\"] = 2"
   ]
  },
  {
   "cell_type": "code",
   "execution_count": null,
   "id": "de008168-c8c9-4a8b-8c83-67a23fe9bd8d",
   "metadata": {},
   "outputs": [],
   "source": []
  }
 ],
 "metadata": {
  "kernelspec": {
   "display_name": "Python 3 (ipykernel)",
   "language": "python",
   "name": "python3"
  },
  "language_info": {
   "codemirror_mode": {
    "name": "ipython",
    "version": 3
   },
   "file_extension": ".py",
   "mimetype": "text/x-python",
   "name": "python",
   "nbconvert_exporter": "python",
   "pygments_lexer": "ipython3",
   "version": "3.12.2"
  }
 },
 "nbformat": 4,
 "nbformat_minor": 5
}
